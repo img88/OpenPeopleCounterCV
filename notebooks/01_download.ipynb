{
 "cells": [
  {
   "cell_type": "code",
   "execution_count": null,
   "id": "94f419f0",
   "metadata": {},
   "outputs": [],
   "source": [
    "import os\n",
    "import uuid\n",
    "import json\n",
    "import subprocess\n",
    "from datetime import datetime\n",
    "\n",
    "def save_cctv_stream(name: str, description: str, url: str, duration: int, output_folder: str = \"output\"):\n",
    "    \"\"\"\n",
    "    Menyimpan video stream dari URL (.m3u8) selama durasi tertentu ke output_folder/name\n",
    "    dan menyimpan metadata dalam format JSON.\n",
    "\n",
    "    Args:\n",
    "        name (str): Nama file output (tanpa ekstensi).\n",
    "        description (str): Deskripsi CCTV.\n",
    "        url (str): URL stream (m3u8).\n",
    "        duration (int): Durasi rekaman dalam detik.\n",
    "        output_folder (str): Folder output utama.\n",
    "    \"\"\"\n",
    "    video_id = str(uuid.uuid4())\n",
    "    output_folder = os.path.join(output_folder, video_id)\n",
    "    os.makedirs(output_folder, exist_ok=True)\n",
    "\n",
    "    timestamp = datetime.now().strftime('%Y%m%d_%H%M%S')\n",
    "    output_filename = f\"{name}_{timestamp}.mp4\"\n",
    "    output_path = os.path.join(output_folder, output_filename)\n",
    "\n",
    "    ffmpeg_cmd = [\n",
    "        'ffmpeg',\n",
    "        '-y',\n",
    "        '-i', url,\n",
    "        '-t', str(duration),\n",
    "        '-c', 'copy',\n",
    "        output_path\n",
    "    ]\n",
    "\n",
    "    print(' '.join(ffmpeg_cmd))\n",
    "\n",
    "    try:\n",
    "        print(f\"[INFO] Saving stream to {output_path} for {duration} seconds...\")\n",
    "        subprocess.run(ffmpeg_cmd, check=True)\n",
    "        print(f\"[DONE] Video saved: {output_path}\")\n",
    "\n",
    "        # Simpan metadata\n",
    "        metadata = {\n",
    "            \"id\": video_id,\n",
    "            \"name\": name,\n",
    "            \"description\": description,\n",
    "            \"url\": url,\n",
    "            \"duration\": duration,\n",
    "            \"created_at\": datetime.now().isoformat(),\n",
    "            \"video_path\": output_path\n",
    "        }\n",
    "\n",
    "        metadata_path = os.path.join(output_folder, \"metadata.json\")\n",
    "        with open(metadata_path, \"w\", encoding=\"utf-8\") as f:\n",
    "            json.dump(metadata, f, indent=2)\n",
    "        \n",
    "        print(f\"[INFO] Metadata saved to {metadata_path}\")\n",
    "\n",
    "    except subprocess.CalledProcessError as e:\n",
    "        print(f\"[ERROR] Gagal menyimpan stream: {e}\")\n"
   ]
  },
  {
   "cell_type": "code",
   "execution_count": 2,
   "id": "eb98e210",
   "metadata": {},
   "outputs": [
    {
     "name": "stdout",
     "output_type": "stream",
     "text": [
      "ffmpeg -y -i https://cctvjss.jogjakota.go.id/malioboro/Malioboro_10_Kepatihan.stream/playlist.m3u8 -t 30 -c copy ./output\\32b583ef-ae36-42a9-9f8e-9ad7a5501970\\kepatihan_20250804_064451.mp4\n",
      "[INFO] Saving stream to ./output\\32b583ef-ae36-42a9-9f8e-9ad7a5501970\\kepatihan_20250804_064451.mp4 for 30 seconds...\n",
      "[DONE] Video saved: ./output\\32b583ef-ae36-42a9-9f8e-9ad7a5501970\\kepatihan_20250804_064451.mp4\n",
      "[INFO] Metadata saved to ./output\\32b583ef-ae36-42a9-9f8e-9ad7a5501970\\metadata.json\n"
     ]
    }
   ],
   "source": [
    "save_cctv_stream(\n",
    "    name=\"kepatihan\",\n",
    "    description=\"CCTV Malioboro - Kepatihan\",\n",
    "    url=\"https://cctvjss.jogjakota.go.id/malioboro/Malioboro_10_Kepatihan.stream/playlist.m3u8\",\n",
    "    duration=30, # detik\n",
    "    output_folder=\"./output\"\n",
    ")\n"
   ]
  }
 ],
 "metadata": {
  "kernelspec": {
   "display_name": ".venv",
   "language": "python",
   "name": "python3"
  },
  "language_info": {
   "codemirror_mode": {
    "name": "ipython",
    "version": 3
   },
   "file_extension": ".py",
   "mimetype": "text/x-python",
   "name": "python",
   "nbconvert_exporter": "python",
   "pygments_lexer": "ipython3",
   "version": "3.12.3"
  }
 },
 "nbformat": 4,
 "nbformat_minor": 5
}
